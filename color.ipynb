{
 "cells": [
  {
   "cell_type": "code",
   "execution_count": 2,
   "source": [
    "from sklearn.cluster import KMeans\r\n",
    "import matplotlib.pyplot as plt\r\n",
    "import numpy as np\r\n",
    "import cv2\r\n"
   ],
   "outputs": [],
   "metadata": {}
  },
  {
   "cell_type": "code",
   "execution_count": 4,
   "source": [
    "from collections import Counter\r\n",
    "from skimage.color import rgb2lab, deltaE_cie76\r\n"
   ],
   "outputs": [],
   "metadata": {}
  },
  {
   "cell_type": "code",
   "execution_count": 5,
   "source": [
    "def RGB2HEX(color):\r\n",
    "    return \"#{:02x}{:02x}{:02x}\".format(int(color[0]), int(color[1]), int(color[2]))\r\n"
   ],
   "outputs": [],
   "metadata": {}
  },
  {
   "cell_type": "code",
   "execution_count": 6,
   "source": [
    "#gets image and returns it in rgb\r\n",
    "def get_image(image_path):\r\n",
    "    image = cv2.imread(image_path)\r\n",
    "    image = cv2.cvtColor(image, cv2.COLOR_BGR2RGB)\r\n",
    "    return image\r\n"
   ],
   "outputs": [],
   "metadata": {}
  },
  {
   "cell_type": "code",
   "execution_count": 7,
   "source": [
    "#converts image to 2d to feed to kmeans\r\n",
    "def flatten(modified_image):\r\n",
    "    modified_image = modified_image.reshape(modified_image.shape[0]*modified_image.shape[1], 3)\r\n",
    "    return modified_image\r\n"
   ],
   "outputs": [],
   "metadata": {}
  },
  {
   "cell_type": "code",
   "execution_count": 9,
   "source": [
    "#inputing the image file and then flattening it \r\n",
    "image = get_image('pikachu.jpg')\r\n",
    "modified_image = flatten(image)\r\n"
   ],
   "outputs": [],
   "metadata": {}
  },
  {
   "cell_type": "code",
   "execution_count": 14,
   "source": [
    "#numbers of colors we want to identify\r\n",
    "number_of_colors = 4\r\n"
   ],
   "outputs": [],
   "metadata": {}
  },
  {
   "cell_type": "code",
   "execution_count": 15,
   "source": [
    "clf = KMeans(n_clusters = number_of_colors)\r\n",
    "labels = clf.fit_predict(modified_image)\r\n",
    "\r\n",
    "counts = Counter(labels)\r\n",
    "\r\n",
    "center_colors = clf.cluster_centers_\r\n",
    "\r\n",
    "ordered_colors = [center_colors[i] for i in counts.keys()]\r\n",
    "\r\n",
    "hex_colors = [RGB2HEX(ordered_colors[i]) for i in counts.keys()]\r\n",
    "rgb_colors = [ordered_colors[i] for i in counts.keys()]\r\n"
   ],
   "outputs": [],
   "metadata": {}
  },
  {
   "cell_type": "code",
   "execution_count": 16,
   "source": [
    "hex_colors"
   ],
   "outputs": [
    {
     "output_type": "execute_result",
     "data": {
      "text/plain": [
       "['#12091a', '#f2cc4a', '#6c3333', '#e1d47f']"
      ]
     },
     "metadata": {},
     "execution_count": 16
    }
   ],
   "metadata": {}
  },
  {
   "cell_type": "code",
   "execution_count": 17,
   "source": [
    "rgb_colors"
   ],
   "outputs": [
    {
     "output_type": "execute_result",
     "data": {
      "text/plain": [
       "[array([18.40494738,  9.42131173, 26.81163373]),\n",
       " array([242.09606978, 204.86764796,  74.95175344]),\n",
       " array([108.53217582,  51.69115582,  51.91148915]),\n",
       " array([225.31956866, 212.50049323, 127.19507117])]"
      ]
     },
     "metadata": {},
     "execution_count": 17
    }
   ],
   "metadata": {}
  },
  {
   "cell_type": "code",
   "execution_count": 19,
   "source": [
    "image.shape"
   ],
   "outputs": [
    {
     "output_type": "execute_result",
     "data": {
      "text/plain": [
       "(1280, 1280, 3)"
      ]
     },
     "metadata": {},
     "execution_count": 19
    }
   ],
   "metadata": {}
  },
  {
   "cell_type": "code",
   "execution_count": null,
   "source": [],
   "outputs": [],
   "metadata": {}
  }
 ],
 "metadata": {
  "orig_nbformat": 4,
  "language_info": {
   "name": "python",
   "version": "3.9.4",
   "mimetype": "text/x-python",
   "codemirror_mode": {
    "name": "ipython",
    "version": 3
   },
   "pygments_lexer": "ipython3",
   "nbconvert_exporter": "python",
   "file_extension": ".py"
  },
  "kernelspec": {
   "name": "python3",
   "display_name": "Python 3.9.4 64-bit ('venv': venv)"
  },
  "interpreter": {
   "hash": "f572961ef94089ae35bb668c2f788e2d6f4916aaecf45535f97602be017a773a"
  }
 },
 "nbformat": 4,
 "nbformat_minor": 2
}